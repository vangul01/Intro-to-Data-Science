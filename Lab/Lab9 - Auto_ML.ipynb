{
 "cells": [
  {
   "cell_type": "code",
   "execution_count": null,
   "metadata": {
    "colab": {},
    "colab_type": "code",
    "id": "LyujUiDQAHHt"
   },
   "outputs": [],
   "source": [
    "#!sudo apt-get install build-essential swig\n",
    "#!curl https://raw.githubusercontent.com/automl/auto-sklearn/master/requirements.txt | xargs -n 1 -L 1 pip3 install\n",
    "#!pip3 install auto-sklearn\n",
    "\n",
    "\n"
   ]
  },
  {
   "cell_type": "code",
   "execution_count": 9,
   "metadata": {
    "colab": {
     "base_uri": "https://localhost:8080/",
     "height": 34
    },
    "colab_type": "code",
    "id": "A_ZqFweNBKcc",
    "outputId": "feec5c41-6004-4bc3-ac18-2ae6cc6868d9"
   },
   "outputs": [
    {
     "data": {
      "text/plain": [
       "'/usr/local/opt/python/bin/python3.7'"
      ]
     },
     "execution_count": 9,
     "metadata": {},
     "output_type": "execute_result"
    }
   ],
   "source": [
    "import sys; sys.executable\n"
   ]
  },
  {
   "cell_type": "code",
   "execution_count": 13,
   "metadata": {},
   "outputs": [
    {
     "ename": "ModuleNotFoundError",
     "evalue": "No module named 'autosklearn'",
     "output_type": "error",
     "traceback": [
      "\u001b[0;31m---------------------------------------------------------------------------\u001b[0m",
      "\u001b[0;31mModuleNotFoundError\u001b[0m                       Traceback (most recent call last)",
      "\u001b[0;32m<ipython-input-13-bb85952a9dd8>\u001b[0m in \u001b[0;36m<module>\u001b[0;34m()\u001b[0m\n\u001b[0;32m----> 1\u001b[0;31m \u001b[0;32mimport\u001b[0m \u001b[0mautosklearn\u001b[0m\u001b[0;34m.\u001b[0m\u001b[0mclassification\u001b[0m\u001b[0;34m\u001b[0m\u001b[0m\n\u001b[0m",
      "\u001b[0;31mModuleNotFoundError\u001b[0m: No module named 'autosklearn'"
     ]
    }
   ],
   "source": [
    "import autosklearn.classification"
   ]
  },
  {
   "cell_type": "markdown",
   "metadata": {
    "colab_type": "text",
    "id": "jqvim91gHtxJ"
   },
   "source": [
    "**autosklearn.classification.AutoSklearnClassifier**\n",
    "Parameters: https://github.com/automl/auto-sklearn/blob/master/autosklearn/estimators.py#L49-L210"
   ]
  },
  {
   "cell_type": "code",
   "execution_count": 11,
   "metadata": {
    "colab": {},
    "colab_type": "code",
    "id": "M7Ji-44bDJTb"
   },
   "outputs": [],
   "source": [
    "import sklearn.model_selection\n",
    "import sklearn.datasets\n",
    "import sklearn.metrics\n",
    "\n",
    "X, y = sklearn.datasets.load_digits(return_X_y=True)\n",
    "X_train, X_test, y_train, y_test = sklearn.model_selection.train_test_split(X, y, random_state=1)"
   ]
  },
  {
   "cell_type": "code",
   "execution_count": 12,
   "metadata": {
    "colab": {},
    "colab_type": "code",
    "id": "zjcp2zWGENmX"
   },
   "outputs": [
    {
     "ename": "NameError",
     "evalue": "name 'autosklearn' is not defined",
     "output_type": "error",
     "traceback": [
      "\u001b[0;31m---------------------------------------------------------------------------\u001b[0m",
      "\u001b[0;31mNameError\u001b[0m                                 Traceback (most recent call last)",
      "\u001b[0;32m<ipython-input-12-04013d1943e9>\u001b[0m in \u001b[0;36m<module>\u001b[0;34m()\u001b[0m\n\u001b[0;32m----> 1\u001b[0;31m automl = autosklearn.classification.AutoSklearnClassifier(\n\u001b[0m\u001b[1;32m      2\u001b[0m         \u001b[0mtime_left_for_this_task\u001b[0m\u001b[0;34m=\u001b[0m\u001b[0;36m120\u001b[0m\u001b[0;34m,\u001b[0m\u001b[0;34m\u001b[0m\u001b[0m\n\u001b[1;32m      3\u001b[0m         \u001b[0mper_run_time_limit\u001b[0m\u001b[0;34m=\u001b[0m\u001b[0;36m30\u001b[0m\u001b[0;34m,\u001b[0m\u001b[0;34m\u001b[0m\u001b[0m\n\u001b[1;32m      4\u001b[0m         \u001b[0;31m# 'holdout' with 'train_size'=0.67 is the default argument setting\u001b[0m\u001b[0;34m\u001b[0m\u001b[0;34m\u001b[0m\u001b[0m\n\u001b[1;32m      5\u001b[0m         \u001b[0;31m# for AutoSklearnClassifier. It is explicitly specified in this example\u001b[0m\u001b[0;34m\u001b[0m\u001b[0;34m\u001b[0m\u001b[0m\n",
      "\u001b[0;31mNameError\u001b[0m: name 'autosklearn' is not defined"
     ]
    }
   ],
   "source": [
    "automl = autosklearn.classification.AutoSklearnClassifier(\n",
    "        time_left_for_this_task=120,\n",
    "        per_run_time_limit=30,\n",
    "        # 'holdout' with 'train_size'=0.67 is the default argument setting\n",
    "        # for AutoSklearnClassifier. It is explicitly specified in this example\n",
    "        # for demonstrational purpose.\n",
    "        resampling_strategy='holdout',\n",
    "        resampling_strategy_arguments={'train_size': 0.67}\n",
    "    )"
   ]
  },
  {
   "cell_type": "code",
   "execution_count": 0,
   "metadata": {
    "colab": {},
    "colab_type": "code",
    "id": "plmjltBuKKPM"
   },
   "outputs": [],
   "source": [
    "automl.fit(X_train, y_train, metric = autosklearn.metrics.accuracy, dataset_name='digits')"
   ]
  },
  {
   "cell_type": "code",
   "execution_count": 0,
   "metadata": {
    "colab": {},
    "colab_type": "code",
    "id": "z0TQZxofEOMW"
   },
   "outputs": [],
   "source": [
    " # Print the final ensemble constructed by auto-sklearn.\n",
    "print(automl.show_models())\n",
    "predictions = automl.predict(X_test)\n",
    "# Print statistics about the auto-sklearn run such as number of\n",
    "# iterations, number of models failed with a time out.\n",
    "print(automl.sprint_statistics())\n",
    "print(\"Accuracy score\", sklearn.metrics.accuracy_score(y_test, predictions))"
   ]
  },
  {
   "cell_type": "markdown",
   "metadata": {
    "colab_type": "text",
    "id": "wUXY6GC3GmfX"
   },
   "source": [
    "Cross Validation with Auto Sklearn"
   ]
  },
  {
   "cell_type": "code",
   "execution_count": 0,
   "metadata": {
    "colab": {},
    "colab_type": "code",
    "id": "ngQ2wCS-EtYz"
   },
   "outputs": [],
   "source": [
    "#initialize cross validation\n",
    "automl = autosklearn.classification.AutoSklearnClassifier(\n",
    "        time_left_for_this_task=120,\n",
    "        per_run_time_limit=30,\n",
    "        resampling_strategy='cv',\n",
    "        resampling_strategy_arguments={'folds': 5}, \n",
    "    )\n",
    "\n",
    "# fit() changes the data in place, but refit needs the original data. We\n",
    "# therefore copy the data. In practice, one should reload the data\n",
    "automl.fit(X_train.copy(), y_train.copy(), dataset_name='digits')\n",
    "# During fit(), models are fit on individual cross-validation folds. To use\n",
    "# all available data, we call refit() which trains all models in the\n",
    "# final ensemble on the whole dataset.\n",
    "automl.refit(X_train.copy(), y_train.copy())\n",
    "\n",
    "print(automl.show_models())\n",
    "\n",
    "predictions = automl.predict(X_test)\n",
    "print(\"Accuracy score\", sklearn.metrics.accuracy_score(y_test, predictions))\n"
   ]
  },
  {
   "cell_type": "code",
   "execution_count": 0,
   "metadata": {
    "colab": {},
    "colab_type": "code",
    "id": "pofO44yuRXRy"
   },
   "outputs": [],
   "source": [
    "import pandas as pd\n",
    "pd.DataFrame(automl.cv_results_)"
   ]
  },
  {
   "cell_type": "code",
   "execution_count": 0,
   "metadata": {
    "colab": {},
    "colab_type": "code",
    "id": "MlumlUBnS1Kg"
   },
   "outputs": [],
   "source": [
    "print(automl.sprint_statistics())"
   ]
  },
  {
   "cell_type": "markdown",
   "metadata": {
    "colab_type": "text",
    "id": "YSXqinh7Glcl"
   },
   "source": [
    "**Regression with Auto sklearn**"
   ]
  },
  {
   "cell_type": "code",
   "execution_count": 0,
   "metadata": {
    "colab": {},
    "colab_type": "code",
    "id": "K0j-R5CzGwPr"
   },
   "outputs": [],
   "source": [
    "import autosklearn.regression\n",
    "\n",
    "\n",
    "X, y = sklearn.datasets.load_boston(return_X_y=True)\n",
    "feature_types = (['numerical'] * 3) + ['categorical'] + (['numerical'] * 9)\n",
    "X_train, X_test, y_train, y_test = \\\n",
    "    sklearn.model_selection.train_test_split(X, y, random_state=1)\n",
    "\n",
    "automl = autosklearn.regression.AutoSklearnRegressor(\n",
    "    time_left_for_this_task=120,\n",
    "    per_run_time_limit=30,\n",
    "    tmp_folder='/tmp/autosklearn_regression_example_tmp',\n",
    "    output_folder='/tmp/autosklearn_regression_example_out',\n",
    ")\n",
    "automl.fit(X_train, y_train, dataset_name='boston',\n",
    "           feat_type=feature_types)\n",
    "\n",
    "print(automl.show_models())\n",
    "predictions = automl.predict(X_test)\n",
    "print(\"R2 score:\", sklearn.metrics.r2_score(y_test, predictions))\n"
   ]
  },
  {
   "cell_type": "markdown",
   "metadata": {
    "colab_type": "text",
    "id": "TCj1yG28Nqr7"
   },
   "source": [
    "**Build your own evaluation metric**\n",
    "\n",
    "Available built-in metrics: [https://github.com/automl/auto-sklearn/blob/master/autosklearn/metrics/__init__.py#L185-L231]"
   ]
  },
  {
   "cell_type": "code",
   "execution_count": 0,
   "metadata": {
    "colab": {},
    "colab_type": "code",
    "id": "usPaP96-Nvfp"
   },
   "outputs": [],
   "source": [
    "import numpy as np"
   ]
  },
  {
   "cell_type": "code",
   "execution_count": 0,
   "metadata": {
    "colab": {},
    "colab_type": "code",
    "id": "r9n1l7bpN5ce"
   },
   "outputs": [],
   "source": [
    "print(\"Available CLASSIFICATION metrics autosklearn.metrics.*:\")\n",
    "print(\"\\t*\" + \"\\n\\t*\".join(autosklearn.metrics.CLASSIFICATION_METRICS))\n"
   ]
  },
  {
   "cell_type": "code",
   "execution_count": 0,
   "metadata": {
    "colab": {},
    "colab_type": "code",
    "id": "MdrMtUhsN5ug"
   },
   "outputs": [],
   "source": [
    "print(\"Available REGRESSION autosklearn.metrics.*:\")\n",
    "print(\"\\t*\" + \"\\n\\t*\".join(autosklearn.metrics.REGRESSION_METRICS))\n"
   ]
  },
  {
   "cell_type": "code",
   "execution_count": 0,
   "metadata": {
    "colab": {},
    "colab_type": "code",
    "id": "ZeVKHScnOABw"
   },
   "outputs": [],
   "source": [
    "def accuracy(solution, prediction):\n",
    "    # custom function defining accuracy\n",
    "    return np.mean(solution == prediction)\n"
   ]
  },
  {
   "cell_type": "code",
   "execution_count": 0,
   "metadata": {
    "colab": {},
    "colab_type": "code",
    "id": "z4-1bltvOZY_"
   },
   "outputs": [],
   "source": [
    "# Use own accuracy metric\n",
    "X, y = sklearn.datasets.load_digits(return_X_y=True)\n",
    "X_train, X_test, y_train, y_test = sklearn.model_selection.train_test_split(X, y, random_state=1)\n",
    "\n",
    "print(\"#\"*80)\n",
    "print(\"Use self defined accuracy metric\")\n",
    "\n",
    "accuracy_scorer = autosklearn.metrics.make_scorer(\n",
    "    name=\"accu\",\n",
    "    score_func=accuracy,\n",
    "    optimum=1,\n",
    "    greater_is_better=True,\n",
    "    needs_proba=False,\n",
    "    needs_threshold=False,\n",
    ")\n",
    "\n",
    "\n",
    "cls = autosklearn.classification.AutoSklearnClassifier(\n",
    "    time_left_for_this_task=60,\n",
    "    per_run_time_limit=30,\n",
    "    seed=1,\n",
    ")\n",
    "cls.fit(X_train, y_train, metric=accuracy_scorer)\n",
    "\n",
    "predictions = cls.predict(X_test)\n",
    "print(cls.sprint_statistics())\n",
    "print(sklearn.metrics.accuracy_score(y_test, predictions))\n"
   ]
  },
  {
   "cell_type": "markdown",
   "metadata": {
    "colab_type": "text",
    "id": "hp03fhxwTKic"
   },
   "source": [
    "**TPOT**\n",
    "\n",
    "http://automl.info/tpot/\n"
   ]
  },
  {
   "cell_type": "code",
   "execution_count": 16,
   "metadata": {
    "colab": {},
    "colab_type": "code",
    "id": "Yzi78vrp3CTg"
   },
   "outputs": [
    {
     "name": "stdout",
     "output_type": "stream",
     "text": [
      "Collecting TPOT\n",
      "  Using cached https://files.pythonhosted.org/packages/95/35/a6cc358b6bb2749d6dffa1ae2427143211f3092904bbb15d1ad317ebe051/TPOT-0.9.6.tar.gz\n",
      "Requirement already satisfied: numpy>=1.12.1 in /usr/local/lib/python3.7/site-packages (from TPOT) (1.15.2)\n",
      "Requirement already satisfied: scipy>=0.19.0 in /usr/local/lib/python3.7/site-packages (from TPOT) (1.2.0)\n",
      "Requirement already satisfied: scikit-learn>=0.18.1 in /usr/local/lib/python3.7/site-packages (from TPOT) (0.19.2)\n",
      "Collecting deap>=1.0 (from TPOT)\n",
      "  Using cached https://files.pythonhosted.org/packages/af/29/e7f2ecbe02997b16a768baed076f5fc4781d7057cd5d9adf7c94027845ba/deap-1.2.2.tar.gz\n",
      "Collecting update_checker>=0.16 (from TPOT)\n",
      "  Using cached https://files.pythonhosted.org/packages/17/c9/ab11855af164d03be0ff4fddd4c46a5bd44799a9ecc1770e01a669c21168/update_checker-0.16-py2.py3-none-any.whl\n",
      "Collecting tqdm>=4.26.0 (from TPOT)\n",
      "  Using cached https://files.pythonhosted.org/packages/6c/4b/c38b5144cf167c4f52288517436ccafefe9dc01b8d1c190e18a6b154cd4a/tqdm-4.31.1-py2.py3-none-any.whl\n",
      "Collecting stopit>=1.1.1 (from TPOT)\n",
      "  Using cached https://files.pythonhosted.org/packages/35/58/e8bb0b0fb05baf07bbac1450c447d753da65f9701f551dca79823ce15d50/stopit-1.1.2.tar.gz\n",
      "Requirement already satisfied: pandas>=0.20.2 in /usr/local/lib/python3.7/site-packages (from TPOT) (0.23.4)\n",
      "Requirement already satisfied: requests>=2.3.0 in /usr/local/lib/python3.7/site-packages (from update_checker>=0.16->TPOT) (2.21.0)\n",
      "Requirement already satisfied: pytz>=2011k in /usr/local/lib/python3.7/site-packages (from pandas>=0.20.2->TPOT) (2018.5)\n",
      "Requirement already satisfied: python-dateutil>=2.5.0 in /usr/local/lib/python3.7/site-packages (from pandas>=0.20.2->TPOT) (2.7.3)\n",
      "Requirement already satisfied: certifi>=2017.4.17 in /usr/local/lib/python3.7/site-packages (from requests>=2.3.0->update_checker>=0.16->TPOT) (2019.3.9)\n",
      "Requirement already satisfied: idna<2.9,>=2.5 in /usr/local/lib/python3.7/site-packages (from requests>=2.3.0->update_checker>=0.16->TPOT) (2.7)\n",
      "Requirement already satisfied: chardet<3.1.0,>=3.0.2 in /usr/local/lib/python3.7/site-packages (from requests>=2.3.0->update_checker>=0.16->TPOT) (3.0.4)\n",
      "Requirement already satisfied: urllib3<1.25,>=1.21.1 in /usr/local/lib/python3.7/site-packages (from requests>=2.3.0->update_checker>=0.16->TPOT) (1.24.1)\n",
      "Requirement already satisfied: six>=1.5 in /usr/local/lib/python3.7/site-packages (from python-dateutil>=2.5.0->pandas>=0.20.2->TPOT) (1.11.0)\n",
      "Building wheels for collected packages: TPOT, deap, stopit\n",
      "  Running setup.py bdist_wheel for TPOT ... \u001b[?25ldone\n",
      "\u001b[?25h  Stored in directory: /Users/valerieangulo/Library/Caches/pip/wheels/86/5c/dd/c7673fbaccb901ec1a4eb79017fa5b65766805d2a98f954b9a\n",
      "  Running setup.py bdist_wheel for deap ... \u001b[?25ldone\n",
      "\u001b[?25h  Stored in directory: /Users/valerieangulo/Library/Caches/pip/wheels/22/ea/bf/dc7c8a2262025a0ab5da9ef02282c198be88902791ca0c6658\n",
      "  Running setup.py bdist_wheel for stopit ... \u001b[?25ldone\n",
      "\u001b[?25h  Stored in directory: /Users/valerieangulo/Library/Caches/pip/wheels/3c/85/2b/2580190404636bfc63e8de3dff629c03bb795021e1983a6cc7\n",
      "Successfully built TPOT deap stopit\n",
      "Installing collected packages: deap, update-checker, tqdm, stopit, TPOT\n",
      "Successfully installed TPOT-0.9.6 deap-1.2.2 stopit-1.1.2 tqdm-4.31.1 update-checker-0.16\n"
     ]
    }
   ],
   "source": [
    "!pip3 install TPOT"
   ]
  },
  {
   "cell_type": "code",
   "execution_count": 17,
   "metadata": {
    "colab": {},
    "colab_type": "code",
    "id": "VkfW9L8g2kNp"
   },
   "outputs": [],
   "source": [
    "from tpot import TPOTClassifier\n",
    "from sklearn.datasets import load_digits\n",
    "from sklearn.model_selection import train_test_split\n"
   ]
  },
  {
   "cell_type": "code",
   "execution_count": 18,
   "metadata": {
    "colab": {},
    "colab_type": "code",
    "id": "n-jFKDm-3ObL"
   },
   "outputs": [
    {
     "data": {
      "text/plain": [
       "((1347, 64), (450, 64), (1347,), (450,))"
      ]
     },
     "execution_count": 18,
     "metadata": {},
     "output_type": "execute_result"
    }
   ],
   "source": [
    "digits = load_digits()\n",
    "X_train, X_test, y_train, y_test = train_test_split(digits.data, digits.target,\n",
    "                                                    train_size=0.75, test_size=0.25)\n",
    "X_train.shape, X_test.shape, y_train.shape, y_test.shape"
   ]
  },
  {
   "cell_type": "code",
   "execution_count": 19,
   "metadata": {
    "colab": {},
    "colab_type": "code",
    "id": "H83c2iSt3fbb"
   },
   "outputs": [
    {
     "name": "stderr",
     "output_type": "stream",
     "text": [
      "/usr/local/lib/python3.7/site-packages/sklearn/ensemble/weight_boosting.py:29: DeprecationWarning: numpy.core.umath_tests is an internal NumPy module and should not be imported. It will be removed in a future NumPy release.\n",
      "  from numpy.core.umath_tests import inner1d\n"
     ]
    },
    {
     "data": {
      "application/vnd.jupyter.widget-view+json": {
       "model_id": "d68b2fe8a5bb4eaca636f2e75ffe1c94",
       "version_major": 2,
       "version_minor": 0
      },
      "text/plain": [
       "HBox(children=(IntProgress(value=0, description='Optimization Progress', max=40, style=ProgressStyle(descripti…"
      ]
     },
     "metadata": {},
     "output_type": "display_data"
    },
    {
     "name": "stdout",
     "output_type": "stream",
     "text": [
      "\r\n",
      "\r",
      "5.0244450333333335 minutes have elapsed. TPOT will close down.\n",
      "TPOT closed during evaluation in one generation.\n",
      "WARNING: TPOT may not provide a good pipeline if TPOT is stopped/interrupted in a early generation.\n",
      "\r\n",
      "\r\n",
      "TPOT closed prematurely. Will use the current best pipeline.\n",
      "\r\n",
      "Best pipeline: KNeighborsClassifier(input_matrix, n_neighbors=7, p=2, weights=uniform)\n",
      "0.9822222222222222\n"
     ]
    }
   ],
   "source": [
    "tpot = TPOTClassifier(verbosity=2, max_time_mins=5, population_size=40)\n",
    "tpot.fit(X_train, y_train)\n",
    "print(tpot.score(X_test, y_test))"
   ]
  },
  {
   "cell_type": "code",
   "execution_count": null,
   "metadata": {},
   "outputs": [],
   "source": []
  }
 ],
 "metadata": {
  "colab": {
   "collapsed_sections": [],
   "name": "Auto-ML.ipynb",
   "provenance": [],
   "version": "0.3.2"
  },
  "kernelspec": {
   "display_name": "Python 3",
   "language": "python",
   "name": "python3"
  },
  "language_info": {
   "codemirror_mode": {
    "name": "ipython",
    "version": 3
   },
   "file_extension": ".py",
   "mimetype": "text/x-python",
   "name": "python",
   "nbconvert_exporter": "python",
   "pygments_lexer": "ipython3",
   "version": "3.7.0"
  }
 },
 "nbformat": 4,
 "nbformat_minor": 1
}
